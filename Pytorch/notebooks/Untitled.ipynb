{
 "cells": [
  {
   "cell_type": "code",
   "execution_count": 4,
   "id": "a9a0bb6e-80c3-41ed-9831-67ad0f761c40",
   "metadata": {},
   "outputs": [],
   "source": [
    "import numpy as np\n",
    "import pandas as pd\n",
    "import torch\n"
   ]
  },
  {
   "cell_type": "code",
   "execution_count": 2,
   "id": "5f40b0ca-325f-4ca0-b046-ee1472a65c65",
   "metadata": {},
   "outputs": [
    {
     "name": "stdout",
     "output_type": "stream",
     "text": [
      "Pandas version: 2.2.2\n",
      "Numpy version: 1.26.3\n",
      "PyTorch versiyonu: 2.2.1\n"
     ]
    }
   ],
   "source": [
    "print(\"Pandas version:\", pd.__version__)\n",
    "print(\"Numpy version:\", np.__version__)\n",
    "print(f\"PyTorch versiyonu: {torch.__version__}\")"
   ]
  },
  {
   "cell_type": "code",
   "execution_count": 6,
   "id": "be7fc115-737c-4922-b58c-cfc94a3d60d8",
   "metadata": {},
   "outputs": [
    {
     "name": "stdout",
     "output_type": "stream",
     "text": [
      "Numpy Array:\n",
      "[1 2 3 4 5]\n",
      "\n",
      "Pandas DataFrame:\n",
      "   A  B\n",
      "0  1  4\n",
      "1  2  5\n",
      "2  3  6\n",
      "\n",
      "Torch Tensor:\n",
      "tensor([1., 2., 3.])\n"
     ]
    }
   ],
   "source": [
    "    # Numpy örneği\n",
    "    array = np.array([1, 2, 3, 4, 5])\n",
    "    print(\"Numpy Array:\")\n",
    "    print(array)\n",
    "\n",
    "    # Pandas örneği\n",
    "    df = pd.DataFrame({\n",
    "        'A': [1, 2, 3],\n",
    "        'B': [4, 5, 6]\n",
    "    })\n",
    "    print(\"\\nPandas DataFrame:\")\n",
    "    print(df)\n",
    "\n",
    "    # Torch örneği\n",
    "    tensor = torch.tensor([1.0, 2.0, 3.0])\n",
    "    print(\"\\nTorch Tensor:\")\n",
    "    print(tensor)"
   ]
  },
  {
   "cell_type": "code",
   "execution_count": null,
   "id": "9b65ceb3-dc60-437d-a97f-0995e6b9181a",
   "metadata": {},
   "outputs": [],
   "source": []
  }
 ],
 "metadata": {
  "kernelspec": {
   "display_name": "Python 3 (ipykernel)",
   "language": "python",
   "name": "python3"
  },
  "language_info": {
   "codemirror_mode": {
    "name": "ipython",
    "version": 3
   },
   "file_extension": ".py",
   "mimetype": "text/x-python",
   "name": "python",
   "nbconvert_exporter": "python",
   "pygments_lexer": "ipython3",
   "version": "3.10.13"
  }
 },
 "nbformat": 4,
 "nbformat_minor": 5
}
